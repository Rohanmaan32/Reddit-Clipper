{
 "cells": [
  {
   "cell_type": "code",
   "execution_count": null,
   "metadata": {},
   "outputs": [],
   "source": [
    "from moviepy.editor import *\n",
    "import os\n",
    "#import ffmpeg"
   ]
  },
  {
   "cell_type": "markdown",
   "metadata": {},
   "source": [
    "1. Figure out basics of moviepy syntax\n",
    "2. Make a In Process folder for each subreddit category\n",
    "2. 1  The in process folder must have the Video and audio clips joined together\n",
    "2. 2 Delete all completed clips from the Inital Downloads folder\n",
    "3. Keep a track of total duration of the clips in the in progress folder\n",
    "4. At 10 minutes/ 600 seconds or above.Move all clips of the folder to a Ready folder\n",
    "5. Each folder within Ready/Subreddit/Clips1 for example must be above 10 minutes and the related clips must be deleted from Downloads and Inprogress folder\n",
    "6. The final vid... idk if moviepy can use nvenc or cuda acceleration, cpu compilation might be excruciatingly slow, so maybe we just ignore it\n",
    "7. Idk if we need to mention any names of the redditors but some of them for sure are gonna have copyrightable music in the backgrounds. somehow Prolly manually gonna be needing to edit it out"
   ]
  },
  {
   "cell_type": "code",
   "execution_count": null,
   "metadata": {},
   "outputs": [],
   "source": [
    "path = r\"D:\\Projects\\Reddit Clipper\\Downloads_Seperated\\Cute\"\n",
    "filelist=[]\n",
    "for files in os.listdir(path):\n",
    "    if os.path.isfile(os.path.join(path, files)):\n",
    "        if '.mp4' in files:\n",
    "            filelist.append(path+'\\\\'+files)\n",
    "print(filelist)"
   ]
  },
  {
   "cell_type": "code",
   "execution_count": null,
   "metadata": {},
   "outputs": [],
   "source": [
    "for i in filelist:\n",
    "    print(i[52:65:])"
   ]
  },
  {
   "cell_type": "code",
   "execution_count": null,
   "metadata": {},
   "outputs": [],
   "source": [
    "def Combinator(filelist,destination):\n",
    "    for i in range(int(len(filelist)/2)):\n",
    "        if filelist[i][-9].upper()==\"V\" and filelist[i+1][-9].upper()==\"A\" and filelist[i][52:65:]==filelist[i][52:65]:\n",
    "            videoclip = VideoFileClip(filelist[i])\n",
    "            audioclip = AudioFileClip(filelist[i+1])\n",
    "    \n",
    "    videoclip.audio = audioclip\n",
    "    videoclip.write_videofile(filename=destination)"
   ]
  },
  {
   "cell_type": "code",
   "execution_count": null,
   "metadata": {},
   "outputs": [],
   "source": [
    "#process Downloads Seperated to just downloads\n",
    "for Subreddit in os.listdir(\"Downloads_Seperated\"):\n",
    "    for FileName in os.listdir(f\"Downloads_Seperated/{Subreddit}\"):\n",
    "        print(FileName)\n",
    "        "
   ]
  },
  {
   "cell_type": "code",
   "execution_count": null,
   "metadata": {},
   "outputs": [],
   "source": []
  }
 ],
 "metadata": {
  "interpreter": {
   "hash": "11f1dc213e07634baa4c5c321dec03c05dafae643c50f20e6d1a492290c05dc2"
  },
  "kernelspec": {
   "display_name": "Python 3.9.6 64-bit",
   "language": "python",
   "name": "python3"
  },
  "language_info": {
   "codemirror_mode": {
    "name": "ipython",
    "version": 3
   },
   "file_extension": ".py",
   "mimetype": "text/x-python",
   "name": "python",
   "nbconvert_exporter": "python",
   "pygments_lexer": "ipython3",
   "version": "3.9.6"
  },
  "orig_nbformat": 4
 },
 "nbformat": 4,
 "nbformat_minor": 2
}
