{
 "cells": [
  {
   "cell_type": "code",
   "execution_count": 2,
   "metadata": {},
   "outputs": [],
   "source": [
    "import requests"
   ]
  },
  {
   "cell_type": "code",
   "execution_count": null,
   "metadata": {},
   "outputs": [],
   "source": [
    "import urllib,json,time,wget\n",
    "#url = ''.join((url,'.json')) #add .json to end of url input for python to extract video url\n",
    "url='https://v.redd.it/d6tzru6uke491'\n",
    "with urllib.request.urlopen(url) as url: #python open url as http request\n",
    "            data = json.loads(url.read().decode()) #read the json url\n",
    "            file = data[0]['data']['children'][0]['data']['secure_media']['reddit_video']['fallback_url'] #navigate the json to the url that has the mp4 (fallback_url)\n",
    "\n",
    "            #debug\n",
    "            print(file) #print if url is read\n",
    "            time.sleep(4) #reddit has a request limit per minute (see below)\n",
    "            wget.download(file,'C:/Users/x/Downloads/')"
   ]
  },
  {
   "cell_type": "code",
   "execution_count": 4,
   "metadata": {},
   "outputs": [
    {
     "name": "stdout",
     "output_type": "stream",
     "text": [
      "https://www.reddit.com/r/Awww/comments/v85w4p/oc_kittens_playing/\n"
     ]
    }
   ],
   "source": [
    "short_url = 'https://v.redd.it/73ev5t3z5i491'\n",
    "orig_url = requests.head(short_url, allow_redirects=True)\n",
    "url=orig_url.url\n",
    "print(url)"
   ]
  }
 ],
 "metadata": {
  "interpreter": {
   "hash": "11f1dc213e07634baa4c5c321dec03c05dafae643c50f20e6d1a492290c05dc2"
  },
  "kernelspec": {
   "display_name": "Python 3.9.6 64-bit",
   "language": "python",
   "name": "python3"
  },
  "language_info": {
   "codemirror_mode": {
    "name": "ipython",
    "version": 3
   },
   "file_extension": ".py",
   "mimetype": "text/x-python",
   "name": "python",
   "nbconvert_exporter": "python",
   "pygments_lexer": "ipython3",
   "version": "3.9.6"
  },
  "orig_nbformat": 4
 },
 "nbformat": 4,
 "nbformat_minor": 2
}
