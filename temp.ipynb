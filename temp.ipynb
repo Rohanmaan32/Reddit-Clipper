{
 "cells": [
  {
   "cell_type": "code",
   "execution_count": 2,
   "metadata": {},
   "outputs": [],
   "source": [
    "import requests\n",
    "import urllib\n",
    "import os"
   ]
  },
  {
   "cell_type": "code",
   "execution_count": null,
   "metadata": {},
   "outputs": [],
   "source": [
    "import urllib,json,time,wget\n",
    "#url = ''.join((url,'.json')) #add .json to end of url input for python to extract video url\n",
    "url='https://v.redd.it/d6tzru6uke491'\n",
    "with urllib.request.urlopen(url) as url: #python open url as http request\n",
    "            data = json.loads(url.read().decode()) #read the json url\n",
    "            file = data[0]['data']['children'][0]['data']['secure_media']['reddit_video']['fallback_url'] #navigate the json to the url that has the mp4 (fallback_url)\n",
    "\n",
    "            #debug\n",
    "            print(file) #print if url is read\n",
    "            time.sleep(4) #reddit has a request limit per minute (see below)\n",
    "            wget.download(file,'C:/Users/x/Downloads/')"
   ]
  },
  {
   "cell_type": "code",
   "execution_count": null,
   "metadata": {},
   "outputs": [],
   "source": [
    "short_url = 'https://v.redd.it/73ev5t3z5i491'\n",
    "orig_url = requests.head(short_url, allow_redirects=True)\n",
    "url=orig_url.url\n",
    "print(url)"
   ]
  },
  {
   "cell_type": "code",
   "execution_count": null,
   "metadata": {},
   "outputs": [],
   "source": [
    "Cute=[\n",
    "'aww',\n",
    "'cats',\n",
    "'animalsbeingjerks',\n",
    "'animalsbeingbros',\n",
    "'Awwducational',\n",
    "'dogs',\n",
    "'corgi',\n",
    "'thisismylifenow',\n",
    "'blep',\n",
    "'eyebleach',\n",
    "'tippytaps',\n",
    "'awww',\n",
    "'babycorgis',\n",
    "'rarepuppers'\n",
    "]\n",
    "Unexpected=[\"Unexpected\"]\n",
    "People_positive=[\n",
    "\"HumansBeingBros\",\n",
    "\"MadeMeSmile\",\n",
    "\"ContagiousLaughter\",\n",
    "\"nonononoyes\"\n",
    "]\n",
    "People_negative=[\n",
    "\"Whatcouldgowrong\",\n",
    "\"WatchPeopleDieInside\",\n",
    "\"Instant_regret\"\n",
    "\"IdiotsInCars\"\n",
    "]\n",
    "Misc=[\n",
    "\"WoahDude\",\n",
    "\"Interestingasfuck\",\n",
    "\"Damnthatsinteresting\"\n",
    "\n",
    "]\n",
    "Funny=[\"funny\",\"ContagiousLaughter\"]\n",
    "Subreddits={'Cute':Cute,'Unexpected':Unexpected,'People_negative':People_negative,\n",
    "            'People_positive':People_positive,\"Misc\":Misc,\"Funny\":Funny}"
   ]
  },
  {
   "cell_type": "code",
   "execution_count": 16,
   "metadata": {},
   "outputs": [],
   "source": [
    "filename='0bvmkck9h8391_10-06-2022_61_Audio.mp4'"
   ]
  },
  {
   "cell_type": "code",
   "execution_count": 17,
   "metadata": {},
   "outputs": [
    {
     "data": {
      "text/plain": [
       "True"
      ]
     },
     "execution_count": 17,
     "metadata": {},
     "output_type": "execute_result"
    }
   ],
   "source": [
    "os.path.exists(os.path.abspath(\"Downloads_Seperated/Cute/\"+filename))"
   ]
  },
  {
   "cell_type": "code",
   "execution_count": 18,
   "metadata": {},
   "outputs": [
    {
     "data": {
      "text/plain": [
       "True"
      ]
     },
     "execution_count": 18,
     "metadata": {},
     "output_type": "execute_result"
    }
   ],
   "source": [
    "not False"
   ]
  },
  {
   "cell_type": "code",
   "execution_count": null,
   "metadata": {},
   "outputs": [],
   "source": [
    "pbar=None\n",
    "\n",
    "def download(url,folder,Filename):\n",
    " try:    \n",
    "    short_url = url\n",
    "    orig_url = requests.head(short_url, allow_redirects=True)\n",
    "    url=orig_url.url\n",
    "    \n",
    "    #VIDEO URL auto gets the best quality uploaded\n",
    "    if url[-1]=='/':  #dk if this is necessary just trims the last / from url before a .json is concatenated\n",
    "        url=url.rstrip('/')\n",
    "        \n",
    "    Headers={\"User-Agent\":\"PRAW:Link Grabbing bot by u/MetaNotFacebook\"}\n",
    "    response=requests.get(url+\".json\",headers=Headers)\n",
    "    Video_Url=response.json()[0]['data']['children'][0]['data']['secure_media']['reddit_video']['fallback_url']\n",
    "    Nsfw_filter=response.json()[0]['data']['children'][0]['data']['over_18']\n",
    "    \n",
    "    if Nsfw_filter is False:\n",
    "        #print(Video_Url)\n",
    "        Vfile=folder + Filename +'_Video.mp4'\n",
    "        #print(Vfile)\n",
    "        Afile=folder + Filename +'_Audio.mp4'\n",
    "        if not os.path.exists(os.path.abspath(Vfile)):\n",
    "            print(\"Video Start\")\n",
    "            urllib.request.urlretrieve(url=Video_Url,reporthook= show_progress,filename=Vfile)\n",
    "            print(\"Video done\")\n",
    "        else:\n",
    "            print(\"File already downloaded\")\n",
    "            return\n",
    "    #AUDIO URL is a slight modification of the base v.redd.it but seems to have some variations to it\n",
    "    try:\n",
    "        print(\"A1\")\n",
    "        Audio_Url=short_url+'/DASH_audio.mp4?source=fallback'\n",
    "        print(Audio_Url)\n",
    "        urllib.request.urlretrieve(url =Audio_Url,reporthook = show_progress,filename=Afile)\n",
    "        print(\"A1 Audio Done\")\n",
    "        return(\"Done with A1\")\n",
    "    except Exception as e:\n",
    "        print(\"A1 Errored\")\n",
    "        print(e)\n",
    "    try:\n",
    "        print(\"A2\")\n",
    "        Audio_Url=short_url+'/audio?source=fallback'\n",
    "        urllib.request.urlretrieve(url =Audio_Url,reporthook = show_progress,filename=Afile)\n",
    "        print(\"A2 Audio Done\")    \n",
    "        return(\"Done with A2\")\n",
    "    except Exception as e:\n",
    "        print(\"A2 Errorred\")\n",
    "        print(e)   \n",
    " except:\n",
    "     print(\"download failed\")   \n",
    "     \n",
    "     \n",
    "#NOT MY CODE got from stackoverflow\n",
    "def show_progress(block_num, block_size, total_size):\n",
    "    global pbar\n",
    "    if pbar is None:\n",
    "        pbar = progressbar.ProgressBar(maxval=total_size)\n",
    "        pbar.start()\n",
    "\n",
    "    downloaded = block_num * block_size\n",
    "    if downloaded < total_size:\n",
    "        pbar.update(downloaded)\n",
    "    else:\n",
    "        pbar.finish()\n",
    "        pbar = None        "
   ]
  }
 ],
 "metadata": {
  "interpreter": {
   "hash": "11f1dc213e07634baa4c5c321dec03c05dafae643c50f20e6d1a492290c05dc2"
  },
  "kernelspec": {
   "display_name": "Python 3.9.6 64-bit",
   "language": "python",
   "name": "python3"
  },
  "language_info": {
   "codemirror_mode": {
    "name": "ipython",
    "version": 3
   },
   "file_extension": ".py",
   "mimetype": "text/x-python",
   "name": "python",
   "nbconvert_exporter": "python",
   "pygments_lexer": "ipython3",
   "version": "3.9.6"
  },
  "orig_nbformat": 4
 },
 "nbformat": 4,
 "nbformat_minor": 2
}
