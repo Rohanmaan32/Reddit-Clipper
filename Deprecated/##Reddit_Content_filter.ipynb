{
 "cells": [
  {
   "cell_type": "code",
   "execution_count": null,
   "metadata": {},
   "outputs": [],
   "source": [
    "import Api_ID\n",
    "import praw\n",
    "import mysql.connector as ms"
   ]
  },
  {
   "cell_type": "code",
   "execution_count": null,
   "metadata": {},
   "outputs": [],
   "source": [
    "reddit = praw.Reddit(\n",
    "    client_id=Api_ID.App_id,\n",
    "    client_secret=Api_ID.Secret,\n",
    "    password=\"Zuccjuicer\",\n",
    "    user_agent=\"PRAW:Link Grabbing bot by u/MetaNotFacebook\",\n",
    "    username=\"MetaNotFacebook\",\n",
    ")"
   ]
  },
  {
   "cell_type": "code",
   "execution_count": null,
   "metadata": {},
   "outputs": [],
   "source": [
    "#params={\"subreddit\":\"aww\"}\n",
    "#req=requests.get(\"https://api.pushshift.io/reddit/subreddit/search\",headers=params)\n",
    "#print(req.content)"
   ]
  },
  {
   "cell_type": "code",
   "execution_count": null,
   "metadata": {},
   "outputs": [],
   "source": [
    "Cute=[\n",
    "'aww',\n",
    "'cats',\n",
    "'animalsbeingjerks',\n",
    "'animalsbeingbros',\n",
    "'Awwducational',\n",
    "'dogs',\n",
    "'corgi',\n",
    "'thisismylifenow',\n",
    "'blep',\n",
    "'eyebleach',\n",
    "'tippytaps',\n",
    "'awww',\n",
    "'babycorgis']"
   ]
  },
  {
   "cell_type": "code",
   "execution_count": null,
   "metadata": {},
   "outputs": [],
   "source": [
    "mydb=ms.connect(host=\"localhost\",user=\"root\",passwd=\"1111\",database=\"reddit\")\n",
    "if mydb.is_connected():\n",
    "    print(\"Successfully connected\")\n",
    "else:\n",
    "    print(\"Not connected\")\n",
    "cr=mydb.cursor()"
   ]
  },
  {
   "cell_type": "code",
   "execution_count": null,
   "metadata": {},
   "outputs": [],
   "source": [
    "def RetrieveAndSqlInsert(SubredditList):\n",
    "    fails=0\n",
    "    for i in SubredditList:\n",
    "        for j in reddit.subreddit(i).hot(limit=10000):\n",
    "            if j.url[8].lower()=='v':\n",
    "                #print(j.url[18:31])\n",
    "                try:\n",
    "                    cr.execute(f'insert into list values(\"{j.url[18:31]}\");')\n",
    "                    mydb.commit()\n",
    "                except Exception:\n",
    "                    \n",
    "                    fails+=1\n",
    "                    if fails>50:\n",
    "                       break \n",
    "                    else:\n",
    "                        continue \n",
    "        if fails>50:\n",
    "            break\n",
    "    print(f\"SQL ENTRY DONE with {fails} fails\")\n",
    "    mydb.close()"
   ]
  },
  {
   "cell_type": "code",
   "execution_count": null,
   "metadata": {},
   "outputs": [],
   "source": [
    "RetrieveAndSqlInsert([Cute])"
   ]
  },
  {
   "cell_type": "code",
   "execution_count": null,
   "metadata": {},
   "outputs": [],
   "source": []
  }
 ],
 "metadata": {
  "interpreter": {
   "hash": "11f1dc213e07634baa4c5c321dec03c05dafae643c50f20e6d1a492290c05dc2"
  },
  "kernelspec": {
   "display_name": "Python 3.9.6 64-bit",
   "language": "python",
   "name": "python3"
  },
  "language_info": {
   "codemirror_mode": {
    "name": "ipython",
    "version": 3
   },
   "file_extension": ".py",
   "mimetype": "text/x-python",
   "name": "python",
   "nbconvert_exporter": "python",
   "pygments_lexer": "ipython3",
   "version": "3.9.6"
  },
  "orig_nbformat": 4
 },
 "nbformat": 4,
 "nbformat_minor": 2
}
