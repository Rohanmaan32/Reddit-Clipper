{
 "cells": [
  {
   "cell_type": "code",
   "execution_count": 1,
   "metadata": {},
   "outputs": [],
   "source": [
    "#import Subreddit_lists\n",
    "import praw\n",
    "import Api_ID\n",
    "import logging\n",
    "import requests\n",
    "import progressbar\n",
    "import urllib\n",
    "from moviepy.editor import *\n",
    "import os"
   ]
  },
  {
   "cell_type": "code",
   "execution_count": 2,
   "metadata": {},
   "outputs": [],
   "source": [
    "reddit = praw.Reddit(\n",
    "    client_id=Api_ID.App_id,\n",
    "    client_secret=Api_ID.Secret,\n",
    "    password=\"\",\n",
    "    user_agent=\"put a user agent here\",\n",
    "    username=\"reddit username here\",\n",
    ")"
   ]
  },
  {
   "cell_type": "code",
   "execution_count": 22,
   "metadata": {},
   "outputs": [],
   "source": [
    "Cute=[\n",
    "'aww',\n",
    "'cats',\n",
    "'animalsbeingbros',\n",
    "'Awwducational',\n",
    "'dogs',\n",
    "'corgi',\n",
    "'thisismylifenow',\n",
    "'blep',\n",
    "'eyebleach',\n",
    "'tippytaps',\n",
    "'awww',\n",
    "'babycorgis',\n",
    "'rarepuppers'\n",
    "]\n",
    "Unexpected=[\"Unexpected\"]\n",
    "People_positive=[\n",
    "\"HumansBeingBros\",\n",
    "\"MadeMeSmile\",\n",
    "\"ContagiousLaughter\",\n",
    "\"nonononoyes\"\n",
    "]\n",
    "People_negative=[\n",
    "\"Whatcouldgowrong\",\n",
    "\"WatchPeopleDieInside\",\n",
    "\"Instant_regret\",\n",
    "\"IdiotsInCars\"\n",
    "]\n",
    "Misc=[\n",
    "\"WoahDude\",\n",
    "\"Interestingasfuck\",\n",
    "\"Damnthatsinteresting\",\n",
    "\"OddlySatisfying\"\n",
    "\n",
    "]\n",
    "Funny=[\"funny\",\"ContagiousLaughter\"]\n",
    "Subreddits={'Cute':Cute,'Unexpected':Unexpected,'People_negative':People_negative,\n",
    "            'People_positive':People_positive,\"Misc\":Misc,\"Funny\":Funny}\n"
   ]
  },
  {
   "cell_type": "code",
   "execution_count": 4,
   "metadata": {},
   "outputs": [],
   "source": [
    "#NOT MY CODE got from stackoverflow\n",
    "logging.basicConfig(level=logging.INFO)\n",
    "def show_progress(block_num, block_size, total_size):\n",
    "    global pbar\n",
    "    if pbar is None:\n",
    "        pbar = progressbar.ProgressBar(maxval=total_size)\n",
    "        pbar.start()\n",
    "\n",
    "    downloaded = block_num * block_size\n",
    "    if downloaded < total_size:\n",
    "        pbar.update(downloaded)\n",
    "    else:\n",
    "        pbar.finish()\n",
    "        pbar = None        "
   ]
  },
  {
   "cell_type": "code",
   "execution_count": 5,
   "metadata": {},
   "outputs": [],
   "source": [
    "pbar=None\n",
    "\n",
    "def download(url,folder,Filename):\n",
    " #try:    \n",
    "    short_url = url\n",
    "    orig_url = requests.head(short_url, allow_redirects=True)\n",
    "    url=orig_url.url\n",
    "    \n",
    "    #VIDEO URL auto gets the best quality uploaded\n",
    "    if url[-1]=='/':  #dk if this is necessary just trims the last / from url before a .json is concatenated\n",
    "        url=url.rstrip('/')\n",
    "        \n",
    "    Headers={\"User-Agent\":\"user agent here\"}\n",
    "    response=requests.get(url+\".json\",headers=Headers)\n",
    "    Video_Url=response.json()[0]['data']['children'][0]['data']['secure_media']['reddit_video']['fallback_url']\n",
    "    Nsfw_filter=response.json()[0]['data']['children'][0]['data']['over_18']\n",
    "    Upvotes=response.json()[0]['data']['children'][0]['data']['score']\n",
    "    if Nsfw_filter is False and Upvotes>100:\n",
    "        \n",
    "        Vtemp=\"temp/\" + Filename +'_Video.mp4'\n",
    "        Atemp=\"temp/\" + Filename +'_Audio.mp4'\n",
    "        #print(\"Video Start\")\n",
    "        urllib.request.urlretrieve(url=Video_Url,reporthook= show_progress,filename=Vtemp)\n",
    "        #print(\"Video done\")\n",
    "        \n",
    "    #AUDIO URL is a slight modification of the base v.redd.it but seems to have some variations to it\n",
    "        try:\n",
    "            print(\"A1\")\n",
    "            Audio_Url=short_url+'/DASH_audio.mp4?source=fallback'\n",
    "            #print(Audio_Url)\n",
    "            urllib.request.urlretrieve(url =Audio_Url,reporthook = show_progress,filename=Atemp)\n",
    "            print(\"A1 Audio Done\")\n",
    "            Combinator_ff(Vtemp,Atemp,folder,Filename)  \n",
    "            return(0)\n",
    "        except Exception as e:\n",
    "            try:\n",
    "                print(\"A2\")\n",
    "                Audio_Url=short_url+'/audio?source=fallback'\n",
    "                urllib.request.urlretrieve(url =Audio_Url,reporthook = show_progress,filename=Atemp)\n",
    "                print(\"A2 Audio Done\")\n",
    "                Combinator_ff(Vtemp,Atemp,folder,Filename)  \n",
    "                return(0)  \n",
    "            except Exception as e:\n",
    "                print(\"A2 Errorred\")\n",
    "                print(e)\n",
    "                os.remove(os.path.abspath(Vtemp))"
   ]
  },
  {
   "cell_type": "code",
   "execution_count": 6,
   "metadata": {},
   "outputs": [],
   "source": [
    "def Combinator(Vtemp,Atemp,folder,Filename):\n",
    "    #TEMP to Combined video to new destination\n",
    "     Video=os.path.abspath(Vtemp)\n",
    "     Audio=os.path.abspath(Atemp)\n",
    "     if '_Video.mp4' in Video and '_Audio.mp4' in Audio:\n",
    "        videoclip = VideoFileClip(Video)\n",
    "        audioclip = AudioFileClip(Audio)\n",
    "        final_clip = videoclip.set_audio(audioclip)\n",
    "        #videoclip.audio = audioclip\n",
    "        final_clip.write_videofile(filename=folder+Filename,threads=8,codec=\"libx264\")\n",
    "        videoclip.close()\n",
    "        audioclip.close()\n",
    "        os.remove(os.path.abspath(Vtemp))\n",
    "        os.remove(os.path.abspath(Atemp))\n",
    "        #shutil.move(src:)"
   ]
  },
  {
   "cell_type": "code",
   "execution_count": 7,
   "metadata": {},
   "outputs": [],
   "source": [
    "#alternate method than moviepy\n",
    "#syscall to ffmpeg directly\n",
    "def Combinator_ff(Vtemp,Atemp,folder,Filename):\n",
    "    from moviepy.video.io.ffmpeg_tools import ffmpeg_merge_video_audio\n",
    "    ffmpeg_merge_video_audio(Vtemp,\n",
    "                             Atemp,\n",
    "                             folder+Filename,\n",
    "                             vcodec='copy',\n",
    "                             acodec='copy',\n",
    "                             ffmpeg_output=False,\n",
    "                             logger=None)\n",
    "    os.remove(os.path.abspath(Vtemp))\n",
    "    os.remove(os.path.abspath(Atemp))"
   ]
  },
  {
   "cell_type": "code",
   "execution_count": 8,
   "metadata": {},
   "outputs": [],
   "source": [
    "#download(\"https://v.redd.it/g039fxsqzl491\",\"downloads/Cute/\",Filename=\"test\")"
   ]
  },
  {
   "cell_type": "code",
   "execution_count": 21,
   "metadata": {},
   "outputs": [],
   "source": [
    "def RetrieveAndDownload(SubredditDictionary:dict):\n",
    "    size=0\n",
    "    for key,value in SubredditDictionary.items():#value is the list of various subreddits\n",
    "        for k in value:# k is subreddit name\n",
    "            logging.info(f\"Current Subreddit {k}\")#logging doesnt seem to work.. idk why\n",
    "            for path, dirs, files in os.walk('Downloads\\\\'):\n",
    "                for f in files:\n",
    "                    fp = os.path.join(path, f)\n",
    "                    size += os.path.getsize(fp)\n",
    "            maxsize=10000000000\n",
    "            if size<maxsize:\n",
    "                logging.warning(f\"over {maxsize}b of downloads {size}\")\n",
    "                return(0)\n",
    "            for j in reddit.subreddit(k).hot(limit=1):\n",
    "                if j.url[8].lower()=='v':\n",
    "                    url_base36=j.url[18:31]\n",
    "                    #print(url_base36)\n",
    "                    logging.info(f\"Currently Downloading {key}\")\n",
    "                    #i had mis spelled downloads as donwloads here, in the folder param..took right about 2 hrs of searching to find this tiny dumb mistake\n",
    "                    try:\n",
    "                        download(url=j.url,folder=f\"Downloads/{key}/{k}\",Filename=f\"{url_base36}.mp4\")#this .mp4 missing created the problem of ffmpeg constantly erroring......\n",
    "                    except Exception as e:\n",
    "                        print(e)\n",
    "                        continue\n",
    "                    logging.info(\"Download Complete\")\n",
    "                    \n"
   ]
  },
  {
   "cell_type": "code",
   "execution_count": null,
   "metadata": {},
   "outputs": [],
   "source": [
    "#for key,value in Subreddits.items():\n",
    "#    for k in value:\n",
    "#        try:\n",
    "#            if not os.path.exists(f\"Downloads/{key}/{k}\") or os.path.exists(f\"Filtered Clips/{key}/{k}\"):\n",
    "#                            os.mkdir(f\"Downloads/{key}/{k}\")\n",
    "#                            os.mkdir(f\"Filtered Clips/{key}\")\n",
    "#                            os.mkdir(f\"Filtered Clips/{key}/{k}\")\n",
    "#        except FileExistsError:\n",
    "#            print(\"movin on\")"
   ]
  },
  {
   "cell_type": "code",
   "execution_count": 23,
   "metadata": {},
   "outputs": [
    {
     "name": "stderr",
     "output_type": "stream",
     "text": [
      "INFO:root:Current Subreddit aww\n",
      "INFO:root:Current Subreddit cats\n",
      "INFO:root:Current Subreddit animalsbeingbros\n",
      "INFO:root:Current Subreddit Awwducational\n",
      "INFO:root:Currently Downloading Cute\n",
      "100% |########################################################################|\n",
      "100% |########################################################################|\n",
      "INFO:root:Download Complete\n",
      "INFO:root:Current Subreddit dogs\n"
     ]
    },
    {
     "name": "stdout",
     "output_type": "stream",
     "text": [
      "A1\n",
      "A1 Audio Done\n"
     ]
    },
    {
     "name": "stderr",
     "output_type": "stream",
     "text": [
      "INFO:root:Current Subreddit corgi\n",
      "INFO:root:Current Subreddit thisismylifenow\n",
      "INFO:root:Currently Downloading Cute\n",
      " 11% |########                                                                |\r"
     ]
    },
    {
     "ename": "KeyboardInterrupt",
     "evalue": "",
     "output_type": "error",
     "traceback": [
      "\u001b[1;31m---------------------------------------------------------------------------\u001b[0m",
      "\u001b[1;31mKeyboardInterrupt\u001b[0m                         Traceback (most recent call last)",
      "\u001b[1;32md:\\Projects\\Reddit Clipper\\Main.ipynb Cell 12'\u001b[0m in \u001b[0;36m<cell line: 5>\u001b[1;34m()\u001b[0m\n\u001b[0;32m      <a href='vscode-notebook-cell:/d%3A/Projects/Reddit%20Clipper/Main.ipynb#ch0000010?line=0'>1</a>\u001b[0m Subreddits\u001b[39m=\u001b[39m{\u001b[39m'\u001b[39m\u001b[39mCute\u001b[39m\u001b[39m'\u001b[39m:Cute,\u001b[39m'\u001b[39m\u001b[39mUnexpected\u001b[39m\u001b[39m'\u001b[39m:Unexpected,\u001b[39m'\u001b[39m\u001b[39mPeople_negative\u001b[39m\u001b[39m'\u001b[39m:People_negative,\n\u001b[0;32m      <a href='vscode-notebook-cell:/d%3A/Projects/Reddit%20Clipper/Main.ipynb#ch0000010?line=1'>2</a>\u001b[0m             \u001b[39m'\u001b[39m\u001b[39mPeople_positive\u001b[39m\u001b[39m'\u001b[39m:People_positive,\u001b[39m\"\u001b[39m\u001b[39mMisc\u001b[39m\u001b[39m\"\u001b[39m:Misc,\u001b[39m\"\u001b[39m\u001b[39mFunny\u001b[39m\u001b[39m\"\u001b[39m:Funny}\n\u001b[0;32m      <a href='vscode-notebook-cell:/d%3A/Projects/Reddit%20Clipper/Main.ipynb#ch0000010?line=2'>3</a>\u001b[0m Subreddits2\u001b[39m=\u001b[39m{\u001b[39m\"\u001b[39m\u001b[39mFunny\u001b[39m\u001b[39m\"\u001b[39m:Funny}\n\u001b[1;32m----> <a href='vscode-notebook-cell:/d%3A/Projects/Reddit%20Clipper/Main.ipynb#ch0000010?line=4'>5</a>\u001b[0m RetrieveAndDownload(Subreddits)\n",
      "\u001b[1;32md:\\Projects\\Reddit Clipper\\Main.ipynb Cell 10'\u001b[0m in \u001b[0;36mRetrieveAndDownload\u001b[1;34m(SubredditDictionary)\u001b[0m\n\u001b[0;32m     <a href='vscode-notebook-cell:/d%3A/Projects/Reddit%20Clipper/Main.ipynb#ch0000009?line=18'>19</a>\u001b[0m \u001b[39m#i had mis spelled downloads as donwloads here, in the folder param..took right about 2 hrs of searching to find this tiny dumb mistake\u001b[39;00m\n\u001b[0;32m     <a href='vscode-notebook-cell:/d%3A/Projects/Reddit%20Clipper/Main.ipynb#ch0000009?line=19'>20</a>\u001b[0m \u001b[39mtry\u001b[39;00m:\n\u001b[1;32m---> <a href='vscode-notebook-cell:/d%3A/Projects/Reddit%20Clipper/Main.ipynb#ch0000009?line=21'>22</a>\u001b[0m     download(url\u001b[39m=\u001b[39;49mj\u001b[39m.\u001b[39;49murl,folder\u001b[39m=\u001b[39;49m\u001b[39mf\u001b[39;49m\u001b[39m\"\u001b[39;49m\u001b[39mDownloads/\u001b[39;49m\u001b[39m{\u001b[39;49;00mkey\u001b[39m}\u001b[39;49;00m\u001b[39m/\u001b[39;49m\u001b[39m{\u001b[39;49;00mk\u001b[39m}\u001b[39;49;00m\u001b[39m\"\u001b[39;49m,Filename\u001b[39m=\u001b[39;49m\u001b[39mf\u001b[39;49m\u001b[39m\"\u001b[39;49m\u001b[39m{\u001b[39;49;00murl_base36\u001b[39m}\u001b[39;49;00m\u001b[39m.mp4\u001b[39;49m\u001b[39m\"\u001b[39;49m)\u001b[39m#this .mp4 missing created the problem of ffmpeg constantly erroring......\u001b[39;00m\n\u001b[0;32m     <a href='vscode-notebook-cell:/d%3A/Projects/Reddit%20Clipper/Main.ipynb#ch0000009?line=22'>23</a>\u001b[0m \u001b[39mexcept\u001b[39;00m \u001b[39mException\u001b[39;00m \u001b[39mas\u001b[39;00m e:\n\u001b[0;32m     <a href='vscode-notebook-cell:/d%3A/Projects/Reddit%20Clipper/Main.ipynb#ch0000009?line=23'>24</a>\u001b[0m     \u001b[39mprint\u001b[39m(e)\n",
      "\u001b[1;32md:\\Projects\\Reddit Clipper\\Main.ipynb Cell 6'\u001b[0m in \u001b[0;36mdownload\u001b[1;34m(url, folder, Filename)\u001b[0m\n\u001b[0;32m     <a href='vscode-notebook-cell:/d%3A/Projects/Reddit%20Clipper/Main.ipynb#ch0000005?line=20'>21</a>\u001b[0m     Atemp\u001b[39m=\u001b[39m\u001b[39m\"\u001b[39m\u001b[39mtemp/\u001b[39m\u001b[39m\"\u001b[39m \u001b[39m+\u001b[39m Filename \u001b[39m+\u001b[39m\u001b[39m'\u001b[39m\u001b[39m_Audio.mp4\u001b[39m\u001b[39m'\u001b[39m\n\u001b[0;32m     <a href='vscode-notebook-cell:/d%3A/Projects/Reddit%20Clipper/Main.ipynb#ch0000005?line=21'>22</a>\u001b[0m     \u001b[39m#print(\"Video Start\")\u001b[39;00m\n\u001b[1;32m---> <a href='vscode-notebook-cell:/d%3A/Projects/Reddit%20Clipper/Main.ipynb#ch0000005?line=22'>23</a>\u001b[0m     urllib\u001b[39m.\u001b[39;49mrequest\u001b[39m.\u001b[39;49murlretrieve(url\u001b[39m=\u001b[39;49mVideo_Url,reporthook\u001b[39m=\u001b[39;49m show_progress,filename\u001b[39m=\u001b[39;49mVtemp)\n\u001b[0;32m     <a href='vscode-notebook-cell:/d%3A/Projects/Reddit%20Clipper/Main.ipynb#ch0000005?line=23'>24</a>\u001b[0m     \u001b[39m#print(\"Video done\")\u001b[39;00m\n\u001b[0;32m     <a href='vscode-notebook-cell:/d%3A/Projects/Reddit%20Clipper/Main.ipynb#ch0000005?line=24'>25</a>\u001b[0m     \n\u001b[0;32m     <a href='vscode-notebook-cell:/d%3A/Projects/Reddit%20Clipper/Main.ipynb#ch0000005?line=25'>26</a>\u001b[0m \u001b[39m#AUDIO URL is a slight modification of the base v.redd.it but seems to have some variations to it\u001b[39;00m\n\u001b[0;32m     <a href='vscode-notebook-cell:/d%3A/Projects/Reddit%20Clipper/Main.ipynb#ch0000005?line=26'>27</a>\u001b[0m     \u001b[39mtry\u001b[39;00m:\n",
      "File \u001b[1;32mc:\\Program Files\\Python310\\lib\\urllib\\request.py:270\u001b[0m, in \u001b[0;36murlretrieve\u001b[1;34m(url, filename, reporthook, data)\u001b[0m\n\u001b[0;32m    267\u001b[0m     reporthook(blocknum, bs, size)\n\u001b[0;32m    269\u001b[0m \u001b[39mwhile\u001b[39;00m \u001b[39mTrue\u001b[39;00m:\n\u001b[1;32m--> 270\u001b[0m     block \u001b[39m=\u001b[39m fp\u001b[39m.\u001b[39;49mread(bs)\n\u001b[0;32m    271\u001b[0m     \u001b[39mif\u001b[39;00m \u001b[39mnot\u001b[39;00m block:\n\u001b[0;32m    272\u001b[0m         \u001b[39mbreak\u001b[39;00m\n",
      "File \u001b[1;32mc:\\Program Files\\Python310\\lib\\http\\client.py:465\u001b[0m, in \u001b[0;36mHTTPResponse.read\u001b[1;34m(self, amt)\u001b[0m\n\u001b[0;32m    462\u001b[0m \u001b[39mif\u001b[39;00m \u001b[39mself\u001b[39m\u001b[39m.\u001b[39mlength \u001b[39mis\u001b[39;00m \u001b[39mnot\u001b[39;00m \u001b[39mNone\u001b[39;00m \u001b[39mand\u001b[39;00m amt \u001b[39m>\u001b[39m \u001b[39mself\u001b[39m\u001b[39m.\u001b[39mlength:\n\u001b[0;32m    463\u001b[0m     \u001b[39m# clip the read to the \"end of response\"\u001b[39;00m\n\u001b[0;32m    464\u001b[0m     amt \u001b[39m=\u001b[39m \u001b[39mself\u001b[39m\u001b[39m.\u001b[39mlength\n\u001b[1;32m--> 465\u001b[0m s \u001b[39m=\u001b[39m \u001b[39mself\u001b[39;49m\u001b[39m.\u001b[39;49mfp\u001b[39m.\u001b[39;49mread(amt)\n\u001b[0;32m    466\u001b[0m \u001b[39mif\u001b[39;00m \u001b[39mnot\u001b[39;00m s \u001b[39mand\u001b[39;00m amt:\n\u001b[0;32m    467\u001b[0m     \u001b[39m# Ideally, we would raise IncompleteRead if the content-length\u001b[39;00m\n\u001b[0;32m    468\u001b[0m     \u001b[39m# wasn't satisfied, but it might break compatibility.\u001b[39;00m\n\u001b[0;32m    469\u001b[0m     \u001b[39mself\u001b[39m\u001b[39m.\u001b[39m_close_conn()\n",
      "File \u001b[1;32mc:\\Program Files\\Python310\\lib\\socket.py:705\u001b[0m, in \u001b[0;36mSocketIO.readinto\u001b[1;34m(self, b)\u001b[0m\n\u001b[0;32m    703\u001b[0m \u001b[39mwhile\u001b[39;00m \u001b[39mTrue\u001b[39;00m:\n\u001b[0;32m    704\u001b[0m     \u001b[39mtry\u001b[39;00m:\n\u001b[1;32m--> 705\u001b[0m         \u001b[39mreturn\u001b[39;00m \u001b[39mself\u001b[39;49m\u001b[39m.\u001b[39;49m_sock\u001b[39m.\u001b[39;49mrecv_into(b)\n\u001b[0;32m    706\u001b[0m     \u001b[39mexcept\u001b[39;00m timeout:\n\u001b[0;32m    707\u001b[0m         \u001b[39mself\u001b[39m\u001b[39m.\u001b[39m_timeout_occurred \u001b[39m=\u001b[39m \u001b[39mTrue\u001b[39;00m\n",
      "File \u001b[1;32mc:\\Program Files\\Python310\\lib\\ssl.py:1274\u001b[0m, in \u001b[0;36mSSLSocket.recv_into\u001b[1;34m(self, buffer, nbytes, flags)\u001b[0m\n\u001b[0;32m   1270\u001b[0m     \u001b[39mif\u001b[39;00m flags \u001b[39m!=\u001b[39m \u001b[39m0\u001b[39m:\n\u001b[0;32m   1271\u001b[0m         \u001b[39mraise\u001b[39;00m \u001b[39mValueError\u001b[39;00m(\n\u001b[0;32m   1272\u001b[0m           \u001b[39m\"\u001b[39m\u001b[39mnon-zero flags not allowed in calls to recv_into() on \u001b[39m\u001b[39m%s\u001b[39;00m\u001b[39m\"\u001b[39m \u001b[39m%\u001b[39m\n\u001b[0;32m   1273\u001b[0m           \u001b[39mself\u001b[39m\u001b[39m.\u001b[39m\u001b[39m__class__\u001b[39m)\n\u001b[1;32m-> 1274\u001b[0m     \u001b[39mreturn\u001b[39;00m \u001b[39mself\u001b[39;49m\u001b[39m.\u001b[39;49mread(nbytes, buffer)\n\u001b[0;32m   1275\u001b[0m \u001b[39melse\u001b[39;00m:\n\u001b[0;32m   1276\u001b[0m     \u001b[39mreturn\u001b[39;00m \u001b[39msuper\u001b[39m()\u001b[39m.\u001b[39mrecv_into(buffer, nbytes, flags)\n",
      "File \u001b[1;32mc:\\Program Files\\Python310\\lib\\ssl.py:1130\u001b[0m, in \u001b[0;36mSSLSocket.read\u001b[1;34m(self, len, buffer)\u001b[0m\n\u001b[0;32m   1128\u001b[0m \u001b[39mtry\u001b[39;00m:\n\u001b[0;32m   1129\u001b[0m     \u001b[39mif\u001b[39;00m buffer \u001b[39mis\u001b[39;00m \u001b[39mnot\u001b[39;00m \u001b[39mNone\u001b[39;00m:\n\u001b[1;32m-> 1130\u001b[0m         \u001b[39mreturn\u001b[39;00m \u001b[39mself\u001b[39;49m\u001b[39m.\u001b[39;49m_sslobj\u001b[39m.\u001b[39;49mread(\u001b[39mlen\u001b[39;49m, buffer)\n\u001b[0;32m   1131\u001b[0m     \u001b[39melse\u001b[39;00m:\n\u001b[0;32m   1132\u001b[0m         \u001b[39mreturn\u001b[39;00m \u001b[39mself\u001b[39m\u001b[39m.\u001b[39m_sslobj\u001b[39m.\u001b[39mread(\u001b[39mlen\u001b[39m)\n",
      "\u001b[1;31mKeyboardInterrupt\u001b[0m: "
     ]
    }
   ],
   "source": [
    "Subreddits={'Cute':Cute,'Unexpected':Unexpected,'People_negative':People_negative,\n",
    "            'People_positive':People_positive,\"Misc\":Misc,\"Funny\":Funny}\n",
    "Subreddits2={\"Funny\":Funny}\n",
    "\n",
    "RetrieveAndDownload(Subreddits)\n",
    "\n",
    "    "
   ]
  },
 ],
 "metadata": {
  "kernelspec": {
   "display_name": "Python 3.10.5 64-bit",
   "language": "python",
   "name": "python3"
  },
  "language_info": {
   "codemirror_mode": {
    "name": "ipython",
    "version": 3
   },
   "file_extension": ".py",
   "mimetype": "text/x-python",
   "name": "python",
   "nbconvert_exporter": "python",
   "pygments_lexer": "ipython3",
   "version": "3.10.5"
  },
  "orig_nbformat": 4,
  "vscode": {
   "interpreter": {
    "hash": "26de051ba29f2982a8de78e945f0abaf191376122a1563185a90213a26c5da77"
   }
  }
 },
 "nbformat": 4,
 "nbformat_minor": 2
}
