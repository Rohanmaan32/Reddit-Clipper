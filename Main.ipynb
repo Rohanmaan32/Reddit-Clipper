{
 "cells": [
  {
   "cell_type": "code",
   "execution_count": 1,
   "metadata": {},
   "outputs": [],
   "source": [
    "#import Subreddit_lists\n",
    "import praw\n",
    "import Api_ID\n",
    "import logging\n",
    "import requests\n",
    "import progressbar\n",
    "import urllib\n",
    "from moviepy.editor import *\n",
    "import os\n",
    "import shutil\n"
   ]
  },
  {
   "cell_type": "code",
   "execution_count": 2,
   "metadata": {},
   "outputs": [
    {
     "name": "stderr",
     "output_type": "stream",
     "text": [
      "Version 7.4.0 of praw is outdated. Version 7.6.0 was released Tuesday May 10, 2022.\n"
     ]
    }
   ],
   "source": [
    "reddit = praw.Reddit(\n",
    "    client_id=Api_ID.App_id,\n",
    "    client_secret=Api_ID.Secret,\n",
    "    password=\"Zuccjuicer\",\n",
    "    user_agent=\"PRAW:Link Grabbing bot by u/MetaNotFacebook\",\n",
    "    username=\"MetaNotFacebook\",\n",
    ")"
   ]
  },
  {
   "cell_type": "code",
   "execution_count": 3,
   "metadata": {},
   "outputs": [],
   "source": [
    "Cute=[\n",
    "'aww',\n",
    "'cats',\n",
    "'animalsbeingjerks',\n",
    "'animalsbeingbros',\n",
    "'Awwducational',\n",
    "'dogs',\n",
    "'corgi',\n",
    "'thisismylifenow',\n",
    "'blep',\n",
    "'eyebleach',\n",
    "'tippytaps',\n",
    "'awww',\n",
    "'babycorgis',\n",
    "'rarepuppers'\n",
    "]\n",
    "Unexpected=[\"Unexpected\"]\n",
    "People_positive=[\n",
    "\"HumansBeingBros\",\n",
    "\"MadeMeSmile\",\n",
    "\"ContagiousLaughter\",\n",
    "\"nonononoyes\"\n",
    "]\n",
    "People_negative=[\n",
    "\"Whatcouldgowrong\",\n",
    "\"WatchPeopleDieInside\",\n",
    "\"Instant_regret\"\n",
    "\"IdiotsInCars\"\n",
    "]\n",
    "Misc=[\n",
    "\"WoahDude\",\n",
    "\"Interestingasfuck\",\n",
    "\"Damnthatsinteresting\",\n",
    "\"OddlySatisfying\"\n",
    "\n",
    "]\n",
    "Funny=[\"funny\",\"ContagiousLaughter\"]\n",
    "Subreddits={'Cute':Cute,'Unexpected':Unexpected,'People_negative':People_negative,\n",
    "            'People_positive':People_positive,\"Misc\":Misc,\"Funny\":Funny}\n"
   ]
  },
  {
   "cell_type": "markdown",
   "metadata": {},
   "source": [
    "So it looks like reddit wont give you the video and audio together, so thats gonna need combining\n",
    "video is  (v.reddit/jsdnfkj) URL + DASH_480.mp4?source=fallback\n",
    "\n",
    "UPDATE - got it to work, requests.head... whatever that does but allowing redirects and copying redirected url to a variable.\n",
    "\n",
    "\n",
    "\n",
    "Audio is  TRICKIER IT SEEMS \n",
    "sometimes (v.reddit/sdujfhd) URl + DASH_audio.mp4    https://v.redd.it/x228x4b25h491/DASH_audio.mp4?source=fallback\n",
    "othertimes https://v.redd.it/z08avb339n801/audio?source=fallback\n",
    "maybe other ways too\n",
    "audio is handled weirdly, but most annoyingly reddit straight up refuses v.redd.it/,,/.json\n",
    "that just fails\n",
    "but this method seems to sorta work but resolution is the problem\n",
    "the url plus the DASH_res i need to guess the resolution ig. not too challenging. start at 1080, try and except to 720,480,\n",
    "otherwise continue but there must be a better way than this"
   ]
  },
  {
   "cell_type": "code",
   "execution_count": 4,
   "metadata": {},
   "outputs": [],
   "source": [
    "#NOT MY CODE got from stackoverflow\n",
    "def show_progress(block_num, block_size, total_size):\n",
    "    global pbar\n",
    "    if pbar is None:\n",
    "        pbar = progressbar.ProgressBar(maxval=total_size)\n",
    "        pbar.start()\n",
    "\n",
    "    downloaded = block_num * block_size\n",
    "    if downloaded < total_size:\n",
    "        pbar.update(downloaded)\n",
    "    else:\n",
    "        pbar.finish()\n",
    "        pbar = None        "
   ]
  },
  {
   "cell_type": "code",
   "execution_count": 10,
   "metadata": {},
   "outputs": [],
   "source": [
    "pbar=None\n",
    "\n",
    "def download(url,folder,Filename):\n",
    " #try:    \n",
    "    short_url = url\n",
    "    orig_url = requests.head(short_url, allow_redirects=True)\n",
    "    url=orig_url.url\n",
    "    \n",
    "    #VIDEO URL auto gets the best quality uploaded\n",
    "    if url[-1]=='/':  #dk if this is necessary just trims the last / from url before a .json is concatenated\n",
    "        url=url.rstrip('/')\n",
    "        \n",
    "    Headers={\"User-Agent\":\"PRAW:Link Grabbing bot by u/MetaNotFacebook\"}\n",
    "    response=requests.get(url+\".json\",headers=Headers)\n",
    "    Video_Url=response.json()[0]['data']['children'][0]['data']['secure_media']['reddit_video']['fallback_url']\n",
    "    Nsfw_filter=response.json()[0]['data']['children'][0]['data']['over_18']\n",
    "    \n",
    "    if Nsfw_filter is False:\n",
    "        \n",
    "        Vtemp=\"temp/\" + Filename +'_Video.mp4'\n",
    "        Atemp=\"temp/\" + Filename +'_Audio.mp4'\n",
    "        print(\"Video Start\")\n",
    "        urllib.request.urlretrieve(url=Video_Url,reporthook= show_progress,filename=Vtemp)\n",
    "        print(\"Video done\")\n",
    "        \n",
    "    #AUDIO URL is a slight modification of the base v.redd.it but seems to have some variations to it\n",
    "        try:\n",
    "            print(\"A1\")\n",
    "            Audio_Url=short_url+'/DASH_audio.mp4?source=fallback'\n",
    "            #print(Audio_Url)\n",
    "            urllib.request.urlretrieve(url =Audio_Url,reporthook = show_progress,filename=Atemp)\n",
    "            print(\"A1 Audio Done\")\n",
    "            Combinator(Vtemp,Atemp,folder,Filename)  \n",
    "            return(0)\n",
    "        except Exception as e:\n",
    "            try:\n",
    "                print(\"A2\")\n",
    "                Audio_Url=short_url+'/audio?source=fallback'\n",
    "                urllib.request.urlretrieve(url =Audio_Url,reporthook = show_progress,filename=Atemp)\n",
    "                print(\"A2 Audio Done\")\n",
    "                Combinator(Vtemp,Atemp,folder,Filename)  \n",
    "                return(0)  \n",
    "            except Exception as e:\n",
    "                print(\"A2 Errorred\")\n",
    "                print(e)\n",
    "                os.remove(os.path.abspath(Vtemp))"
   ]
  },
  {
   "cell_type": "code",
   "execution_count": 6,
   "metadata": {},
   "outputs": [],
   "source": [
    "def Combinator(Vtemp,Atemp,folder,Filename):\n",
    "    #TEMP to Combined video to new destination\n",
    "     Video=os.path.abspath(Vtemp)\n",
    "     Audio=os.path.abspath(Atemp)\n",
    "     if '_Video.mp4' in Video and '_Audio.mp4' in Audio:\n",
    "        videoclip = VideoFileClip(Video)\n",
    "        audioclip = AudioFileClip(Audio)\n",
    "        final_clip = videoclip.set_audio(audioclip)\n",
    "        #videoclip.audio = audioclip\n",
    "        final_clip.write_videofile(filename=folder+Filename,threads=1,codec=\"libx264\")\n",
    "        videoclip.close()\n",
    "        audioclip.close()\n",
    "        os.remove(os.path.abspath(Vtemp))\n",
    "        os.remove(os.path.abspath(Atemp))\n",
    "        #shutil.move(src:)"
   ]
  },
  {
   "cell_type": "code",
   "execution_count": 7,
   "metadata": {},
   "outputs": [],
   "source": [
    "#download(\"https://v.redd.it/g039fxsqzl491\",\"downloads/Cute/\",Filename=\"test\")"
   ]
  },
  {
   "cell_type": "code",
   "execution_count": 13,
   "metadata": {},
   "outputs": [],
   "source": [
    "def RetrieveAndDownload(SubredditDictionary:dict):\n",
    "    size=0\n",
    "    for key,value in SubredditDictionary.items():\n",
    "        for k in value:# k is subreddit name\n",
    "            logging.info(f\"Current Subreddit {k}\")\n",
    "            for path, dirs, files in os.walk('Downloads\\\\'):\n",
    "                for f in files:\n",
    "                    fp = os.path.join(path, f)\n",
    "                    size += os.path.getsize(fp)\n",
    "            if size>10000000000:\n",
    "                print(\"over 10gb of downloads\")\n",
    "                return(0)\n",
    "            for j in reddit.subreddit(k).hot(limit=100000):\n",
    "                if j.url[8].lower()=='v':\n",
    "                    url_base36=j.url[18:31]\n",
    "                    print(url_base36)\n",
    "                    logging.info(f\"Currently Downloading {key}\")\n",
    "                    #i had mis spelled downloads as donwloads here, in the folder param..took right about 2 hrs of searching to find this tiny dumb mistake\n",
    "                    try:\n",
    "                        download(url=j.url,folder=f\"Downloads/{key}/\",Filename=f\"{url_base36}.mp4\")#this .mp4 missing created the problem of ffmpeg constantly erroring......\n",
    "                    except Exception as e:\n",
    "                        print(e)\n",
    "                        continue\n",
    "                    with open(\"testDownloads.txt\",'a') as f:\n",
    "                        f.write(j.url)\n",
    "                    logging.info(\"Download Complete\")\n",
    "                    \n"
   ]
  },
  {
   "cell_type": "code",
   "execution_count": 14,
   "metadata": {},
   "outputs": [
    {
     "name": "stdout",
     "output_type": "stream",
     "text": [
      "umcenikaft891\n"
     ]
    },
    {
     "name": "stderr",
     "output_type": "stream",
     "text": [
      " 28% |####################                                                    |\r"
     ]
    },
    {
     "name": "stdout",
     "output_type": "stream",
     "text": [
      "Video Start\n"
     ]
    },
    {
     "name": "stderr",
     "output_type": "stream",
     "text": [
      "100% |########################################################################|\n",
      "100% |########################################################################|\n"
     ]
    },
    {
     "name": "stdout",
     "output_type": "stream",
     "text": [
      "Video done\n",
      "A1\n",
      "https://v.redd.it/umcenikaft891/DASH_audio.mp4?source=fallback\n",
      "A1 Audio Done\n",
      "Moviepy - Building video Downloads/Cute/umcenikaft891.mp4.\n",
      "MoviePy - Writing audio in umcenikaft891TEMP_MPY_wvf_snd.mp3\n"
     ]
    },
    {
     "name": "stderr",
     "output_type": "stream",
     "text": [
      "                                                                    \r"
     ]
    },
    {
     "name": "stdout",
     "output_type": "stream",
     "text": [
      "MoviePy - Done.\n",
      "Moviepy - Writing video Downloads/Cute/umcenikaft891.mp4\n",
      "\n"
     ]
    },
    {
     "name": "stderr",
     "output_type": "stream",
     "text": [
      "                                                              \r"
     ]
    },
    {
     "name": "stdout",
     "output_type": "stream",
     "text": [
      "Moviepy - Done !\n",
      "Moviepy - video ready Downloads/Cute/umcenikaft891.mp4\n",
      "5rplg1ue6r891\n"
     ]
    },
    {
     "name": "stderr",
     "output_type": "stream",
     "text": [
      " 12% |########                                                                |\r"
     ]
    },
    {
     "name": "stdout",
     "output_type": "stream",
     "text": [
      "Video Start\n"
     ]
    },
    {
     "name": "stderr",
     "output_type": "stream",
     "text": [
      "100% |########################################################################|\n",
      "100% |########################################################################|\n"
     ]
    },
    {
     "name": "stdout",
     "output_type": "stream",
     "text": [
      "Video done\n",
      "A1\n",
      "https://v.redd.it/5rplg1ue6r891/DASH_audio.mp4?source=fallback\n",
      "A1 Audio Done\n",
      "Moviepy - Building video Downloads/Cute/5rplg1ue6r891.mp4.\n",
      "MoviePy - Writing audio in 5rplg1ue6r891TEMP_MPY_wvf_snd.mp3\n"
     ]
    },
    {
     "name": "stderr",
     "output_type": "stream",
     "text": [
      "                                                                     \r"
     ]
    },
    {
     "name": "stdout",
     "output_type": "stream",
     "text": [
      "MoviePy - Done.\n",
      "Moviepy - Writing video Downloads/Cute/5rplg1ue6r891.mp4\n",
      "\n"
     ]
    },
    {
     "name": "stderr",
     "output_type": "stream",
     "text": [
      "t: 100%|█████████▉| 1399/1401 [00:44<00:00, 31.07it/s, now=None]WARNING:py.warnings:c:\\Users\\Administrator\\AppData\\Local\\Programs\\Python\\Python39\\lib\\site-packages\\moviepy\\video\\io\\ffmpeg_reader.py:123: UserWarning: Warning: in file d:\\Projects\\Reddit Clipper\\temp\\5rplg1ue6r891.mp4_Video.mp4, 2306880 bytes wanted but 0 bytes read,at frame 1400/1401, at time 46.67/46.67 sec. Using the last valid frame instead.\n",
      "  warnings.warn(\"Warning: in file %s, \"%(self.filename)+\n",
      "\n",
      "                                                                \r"
     ]
    },
    {
     "name": "stdout",
     "output_type": "stream",
     "text": [
      "Moviepy - Done !\n",
      "Moviepy - video ready Downloads/Cute/5rplg1ue6r891.mp4\n",
      "1joqp0vl0u891\n"
     ]
    },
    {
     "name": "stderr",
     "output_type": "stream",
     "text": [
      "100% |########################################################################|\n",
      "  6% |####                                                                    |\r"
     ]
    },
    {
     "name": "stdout",
     "output_type": "stream",
     "text": [
      "Video Start\n",
      "Video done\n",
      "A1\n",
      "https://v.redd.it/1joqp0vl0u891/DASH_audio.mp4?source=fallback\n"
     ]
    },
    {
     "name": "stderr",
     "output_type": "stream",
     "text": [
      "100% |########################################################################|\n"
     ]
    },
    {
     "name": "stdout",
     "output_type": "stream",
     "text": [
      "A1 Audio Done\n",
      "Moviepy - Building video Downloads/Cute/1joqp0vl0u891.mp4.\n",
      "MoviePy - Writing audio in 1joqp0vl0u891TEMP_MPY_wvf_snd.mp3\n"
     ]
    },
    {
     "name": "stderr",
     "output_type": "stream",
     "text": [
      "                                                                    \r"
     ]
    },
    {
     "name": "stdout",
     "output_type": "stream",
     "text": [
      "MoviePy - Done.\n",
      "Moviepy - Writing video Downloads/Cute/1joqp0vl0u891.mp4\n",
      "\n"
     ]
    },
    {
     "name": "stderr",
     "output_type": "stream",
     "text": [
      "                                                               \r"
     ]
    },
    {
     "name": "stdout",
     "output_type": "stream",
     "text": [
      "Moviepy - Done !\n",
      "Moviepy - video ready Downloads/Cute/1joqp0vl0u891.mp4\n",
      "vy2zr5wznt891\n"
     ]
    },
    {
     "name": "stderr",
     "output_type": "stream",
     "text": [
      " 43% |###############################                                         |\r"
     ]
    },
    {
     "name": "stdout",
     "output_type": "stream",
     "text": [
      "Video Start\n"
     ]
    },
    {
     "name": "stderr",
     "output_type": "stream",
     "text": [
      "100% |########################################################################|\n",
      "100% |########################################################################|\n"
     ]
    },
    {
     "name": "stdout",
     "output_type": "stream",
     "text": [
      "Video done\n",
      "A1\n",
      "https://v.redd.it/vy2zr5wznt891/DASH_audio.mp4?source=fallback\n",
      "A1 Audio Done\n",
      "Moviepy - Building video Downloads/Cute/vy2zr5wznt891.mp4.\n",
      "MoviePy - Writing audio in vy2zr5wznt891TEMP_MPY_wvf_snd.mp3\n"
     ]
    },
    {
     "name": "stderr",
     "output_type": "stream",
     "text": [
      "                                                                    \r"
     ]
    },
    {
     "name": "stdout",
     "output_type": "stream",
     "text": [
      "MoviePy - Done.\n",
      "Moviepy - Writing video Downloads/Cute/vy2zr5wznt891.mp4\n",
      "\n"
     ]
    },
    {
     "name": "stderr",
     "output_type": "stream",
     "text": [
      "t: 100%|██████████| 378/378 [00:09<00:00, 31.92it/s, now=None]WARNING:py.warnings:c:\\Users\\Administrator\\AppData\\Local\\Programs\\Python\\Python39\\lib\\site-packages\\moviepy\\video\\io\\ffmpeg_reader.py:123: UserWarning: Warning: in file d:\\Projects\\Reddit Clipper\\temp\\vy2zr5wznt891.mp4_Video.mp4, 1969920 bytes wanted but 0 bytes read,at frame 377/378, at time 12.57/12.57 sec. Using the last valid frame instead.\n",
      "  warnings.warn(\"Warning: in file %s, \"%(self.filename)+\n",
      "\n",
      "                                                              \r"
     ]
    },
    {
     "name": "stdout",
     "output_type": "stream",
     "text": [
      "Moviepy - Done !\n",
      "Moviepy - video ready Downloads/Cute/vy2zr5wznt891.mp4\n",
      "skomjc4vpq891\n"
     ]
    },
    {
     "name": "stderr",
     "output_type": "stream",
     "text": [
      "100% |########################################################################|\r"
     ]
    },
    {
     "name": "stdout",
     "output_type": "stream",
     "text": [
      "Video Start\n",
      "Video done\n",
      "A1\n",
      "https://v.redd.it/skomjc4vpq891/DASH_audio.mp4?source=fallback\n"
     ]
    },
    {
     "name": "stderr",
     "output_type": "stream",
     "text": [
      "\n"
     ]
    },
    {
     "name": "stdout",
     "output_type": "stream",
     "text": [
      "A2\n",
      "A2 Errorred\n",
      "HTTP Error 403: Forbidden\n",
      "2q0uz6zkxo891\n"
     ]
    },
    {
     "name": "stderr",
     "output_type": "stream",
     "text": [
      "100% |########################################################################|\n",
      "  0% |                                                                        |\r"
     ]
    },
    {
     "name": "stdout",
     "output_type": "stream",
     "text": [
      "Video Start\n",
      "Video done\n",
      "A1\n",
      "https://v.redd.it/2q0uz6zkxo891/DASH_audio.mp4?source=fallback\n"
     ]
    },
    {
     "name": "stderr",
     "output_type": "stream",
     "text": [
      "100% |########################################################################|\n"
     ]
    },
    {
     "name": "stdout",
     "output_type": "stream",
     "text": [
      "A1 Audio Done\n",
      "Moviepy - Building video Downloads/Cute/2q0uz6zkxo891.mp4.\n",
      "MoviePy - Writing audio in 2q0uz6zkxo891TEMP_MPY_wvf_snd.mp3\n"
     ]
    },
    {
     "name": "stderr",
     "output_type": "stream",
     "text": [
      "                                                                   \r"
     ]
    },
    {
     "name": "stdout",
     "output_type": "stream",
     "text": [
      "MoviePy - Done.\n",
      "Moviepy - Writing video Downloads/Cute/2q0uz6zkxo891.mp4\n",
      "\n"
     ]
    },
    {
     "name": "stderr",
     "output_type": "stream",
     "text": [
      "                                                               \r"
     ]
    },
    {
     "name": "stdout",
     "output_type": "stream",
     "text": [
      "Moviepy - Done !\n",
      "Moviepy - video ready Downloads/Cute/2q0uz6zkxo891.mp4\n",
      "kklbeixihr891\n"
     ]
    },
    {
     "name": "stderr",
     "output_type": "stream",
     "text": [
      " 32% |#######################                                                 |\r"
     ]
    },
    {
     "name": "stdout",
     "output_type": "stream",
     "text": [
      "Video Start\n"
     ]
    },
    {
     "name": "stderr",
     "output_type": "stream",
     "text": [
      "100% |########################################################################|\n"
     ]
    },
    {
     "name": "stdout",
     "output_type": "stream",
     "text": [
      "Video done\n",
      "A1\n",
      "https://v.redd.it/kklbeixihr891/DASH_audio.mp4?source=fallback\n",
      "A2\n",
      "A2 Errorred\n",
      "HTTP Error 403: Forbidden\n",
      "ztctv35ssn891\n"
     ]
    }
   ],
   "source": [
    "RetrieveAndDownload(Subreddits)"
   ]
  }
 ],
 "metadata": {
  "kernelspec": {
   "display_name": "Python 3.9.6 64-bit",
   "language": "python",
   "name": "python3"
  },
  "language_info": {
   "codemirror_mode": {
    "name": "ipython",
    "version": 3
   },
   "file_extension": ".py",
   "mimetype": "text/x-python",
   "name": "python",
   "nbconvert_exporter": "python",
   "pygments_lexer": "ipython3",
   "version": "3.9.6"
  },
  "orig_nbformat": 4,
  "vscode": {
   "interpreter": {
    "hash": "6fff98fc3b3d81bd655c2cc48858186e4d9e2db7b515bf1c3221888f12a62f87"
   }
  }
 },
 "nbformat": 4,
 "nbformat_minor": 2
}
