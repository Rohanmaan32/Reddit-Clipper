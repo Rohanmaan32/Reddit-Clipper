{
 "cells": [
  {
   "cell_type": "code",
   "execution_count": null,
   "metadata": {},
   "outputs": [],
   "source": [
    "#import Subreddit_lists\n",
    "import praw\n",
    "import Api_ID\n",
    "import logging\n",
    "import requests\n",
    "import progressbar\n",
    "import urllib\n",
    "from moviepy.editor import *\n",
    "import os"
   ]
  },
  {
   "cell_type": "code",
   "execution_count": null,
   "metadata": {},
   "outputs": [],
   "source": [
    "reddit = praw.Reddit(\n",
    "    client_id=Api_ID.App_id,\n",
    "    client_secret=Api_ID.Secret,\n",
    "    password=\"Zuccjuicer\",\n",
    "    user_agent=\"PRAW:Link Grabbing bot by u/MetaNotFacebook\",\n",
    "    username=\"MetaNotFacebook\",\n",
    ")"
   ]
  },
  {
   "cell_type": "code",
   "execution_count": null,
   "metadata": {},
   "outputs": [],
   "source": [
    "Cute=[\n",
    "'aww',\n",
    "'cats',\n",
    "'animalsbeingjerks',\n",
    "'animalsbeingbros',\n",
    "'Awwducational',\n",
    "'dogs',\n",
    "'corgi',\n",
    "'thisismylifenow',\n",
    "'blep',\n",
    "'eyebleach',\n",
    "'tippytaps',\n",
    "'awww',\n",
    "'babycorgis',\n",
    "'rarepuppers'\n",
    "]\n",
    "Unexpected=[\"Unexpected\"]\n",
    "People_positive=[\n",
    "\"HumansBeingBros\",\n",
    "\"MadeMeSmile\",\n",
    "\"ContagiousLaughter\",\n",
    "\"nonononoyes\"\n",
    "]\n",
    "People_negative=[\n",
    "\"Whatcouldgowrong\",\n",
    "\"WatchPeopleDieInside\",\n",
    "\"Instant_regret\"\n",
    "\"IdiotsInCars\"\n",
    "]\n",
    "Misc=[\n",
    "\"WoahDude\",\n",
    "\"Interestingasfuck\",\n",
    "\"Damnthatsinteresting\",\n",
    "\"OddlySatisfying\"\n",
    "\n",
    "]\n",
    "Funny=[\"funny\",\"ContagiousLaughter\"]\n",
    "Subreddits={'Cute':Cute,'Unexpected':Unexpected,'People_negative':People_negative,\n",
    "            'People_positive':People_positive,\"Misc\":Misc,\"Funny\":Funny}\n"
   ]
  },
  {
   "cell_type": "markdown",
   "metadata": {},
   "source": [
    "So it looks like reddit wont give you the video and audio together, so thats gonna need combining\n",
    "video is  (v.reddit/jsdnfkj) URL + DASH_480.mp4?source=fallback\n",
    "\n",
    "UPDATE - got it to work, requests.head... whatever that does but allowing redirects and copying redirected url to a variable.\n",
    "\n",
    "\n",
    "\n",
    "Audio is  TRICKIER IT SEEMS \n",
    "sometimes (v.reddit/sdujfhd) URl + DASH_audio.mp4    https://v.redd.it/x228x4b25h491/DASH_audio.mp4?source=fallback\n",
    "othertimes https://v.redd.it/z08avb339n801/audio?source=fallback\n",
    "maybe other ways too\n",
    "audio is handled weirdly, but most annoyingly reddit straight up refuses v.redd.it/,,/.json\n",
    "that just fails\n",
    "but this method seems to sorta work but resolution is the problem\n",
    "the url plus the DASH_res i need to guess the resolution ig. not too challenging. start at 1080, try and except to 720,480,\n",
    "otherwise continue but there must be a better way than this"
   ]
  },
  {
   "cell_type": "code",
   "execution_count": null,
   "metadata": {},
   "outputs": [],
   "source": [
    "#NOT MY CODE got from stackoverflow\n",
    "logging.basicConfig(level=logging.DEBUG)\n",
    "def show_progress(block_num, block_size, total_size):\n",
    "    global pbar\n",
    "    if pbar is None:\n",
    "        pbar = progressbar.ProgressBar(maxval=total_size)\n",
    "        pbar.start()\n",
    "\n",
    "    downloaded = block_num * block_size\n",
    "    if downloaded < total_size:\n",
    "        pbar.update(downloaded)\n",
    "    else:\n",
    "        pbar.finish()\n",
    "        pbar = None        "
   ]
  },
  {
   "cell_type": "code",
   "execution_count": null,
   "metadata": {},
   "outputs": [],
   "source": [
    "pbar=None\n",
    "\n",
    "def download(url,folder,Filename):\n",
    " #try:    \n",
    "    short_url = url\n",
    "    orig_url = requests.head(short_url, allow_redirects=True)\n",
    "    url=orig_url.url\n",
    "    \n",
    "    #VIDEO URL auto gets the best quality uploaded\n",
    "    if url[-1]=='/':  #dk if this is necessary just trims the last / from url before a .json is concatenated\n",
    "        url=url.rstrip('/')\n",
    "        \n",
    "    Headers={\"User-Agent\":\"PRAW:Link Grabbing bot by u/MetaNotFacebook\"}\n",
    "    response=requests.get(url+\".json\",headers=Headers)\n",
    "    Video_Url=response.json()[0]['data']['children'][0]['data']['secure_media']['reddit_video']['fallback_url']\n",
    "    Nsfw_filter=response.json()[0]['data']['children'][0]['data']['over_18']\n",
    "    \n",
    "    if Nsfw_filter is False:\n",
    "        \n",
    "        Vtemp=\"temp/\" + Filename +'_Video.mp4'\n",
    "        Atemp=\"temp/\" + Filename +'_Audio.mp4'\n",
    "        #print(\"Video Start\")\n",
    "        urllib.request.urlretrieve(url=Video_Url,reporthook= show_progress,filename=Vtemp)\n",
    "        #print(\"Video done\")\n",
    "        \n",
    "    #AUDIO URL is a slight modification of the base v.redd.it but seems to have some variations to it\n",
    "        try:\n",
    "            print(\"A1\")\n",
    "            Audio_Url=short_url+'/DASH_audio.mp4?source=fallback'\n",
    "            #print(Audio_Url)\n",
    "            urllib.request.urlretrieve(url =Audio_Url,reporthook = show_progress,filename=Atemp)\n",
    "            print(\"A1 Audio Done\")\n",
    "            Combinator_ff(Vtemp,Atemp,folder,Filename)  \n",
    "            return(0)\n",
    "        except Exception as e:\n",
    "            try:\n",
    "                print(\"A2\")\n",
    "                Audio_Url=short_url+'/audio?source=fallback'\n",
    "                urllib.request.urlretrieve(url =Audio_Url,reporthook = show_progress,filename=Atemp)\n",
    "                print(\"A2 Audio Done\")\n",
    "                Combinator_ff(Vtemp,Atemp,folder,Filename)  \n",
    "                return(0)  \n",
    "            except Exception as e:\n",
    "                print(\"A2 Errorred\")\n",
    "                print(e)\n",
    "                os.remove(os.path.abspath(Vtemp))"
   ]
  },
  {
   "cell_type": "code",
   "execution_count": null,
   "metadata": {},
   "outputs": [],
   "source": [
    "def Combinator(Vtemp,Atemp,folder,Filename):\n",
    "    #TEMP to Combined video to new destination\n",
    "     Video=os.path.abspath(Vtemp)\n",
    "     Audio=os.path.abspath(Atemp)\n",
    "     if '_Video.mp4' in Video and '_Audio.mp4' in Audio:\n",
    "        videoclip = VideoFileClip(Video)\n",
    "        audioclip = AudioFileClip(Audio)\n",
    "        final_clip = videoclip.set_audio(audioclip)\n",
    "        #videoclip.audio = audioclip\n",
    "        final_clip.write_videofile(filename=folder+Filename,threads=8,codec=\"libx264\")\n",
    "        videoclip.close()\n",
    "        audioclip.close()\n",
    "        os.remove(os.path.abspath(Vtemp))\n",
    "        os.remove(os.path.abspath(Atemp))\n",
    "        #shutil.move(src:)"
   ]
  },
  {
   "cell_type": "code",
   "execution_count": null,
   "metadata": {},
   "outputs": [],
   "source": [
    "#alternate method than moviepy\n",
    "#syscall to ffmpeg directly\n",
    "def Combinator_ff(Vtemp,Atemp,folder,Filename):\n",
    "    from moviepy.video.io.ffmpeg_tools import ffmpeg_merge_video_audio\n",
    "    ffmpeg_merge_video_audio(Vtemp,\n",
    "                             Atemp,\n",
    "                             folder+Filename,\n",
    "                             vcodec='copy',\n",
    "                             acodec='copy',\n",
    "                             ffmpeg_output=False,\n",
    "                             logger=None)\n",
    "    os.remove(os.path.abspath(Vtemp))\n",
    "    os.remove(os.path.abspath(Atemp))"
   ]
  },
  {
   "cell_type": "code",
   "execution_count": null,
   "metadata": {},
   "outputs": [],
   "source": [
    "#download(\"https://v.redd.it/g039fxsqzl491\",\"downloads/Cute/\",Filename=\"test\")"
   ]
  },
  {
   "cell_type": "code",
   "execution_count": null,
   "metadata": {},
   "outputs": [],
   "source": [
    "def RetrieveAndDownload(SubredditDictionary:dict):\n",
    "    size=0\n",
    "    for key,value in SubredditDictionary.items():#value is the list of various subreddits\n",
    "        for k in value:# k is subreddit name\n",
    "            logging.info(f\"Current Subreddit {k}\")#logging doesnt seem to work.. idk why\n",
    "            for path, dirs, files in os.walk('Downloads\\\\'):\n",
    "                for f in files:\n",
    "                    fp = os.path.join(path, f)\n",
    "                    size += os.path.getsize(fp)\n",
    "            maxsize=30000000000\n",
    "            if size>maxsize:\n",
    "                logging.warning(f\"over {maxsize} of downloads\")\n",
    "                return(0)\n",
    "            for j in reddit.subreddit(k).hot(limit=100000):\n",
    "                if j.url[8].lower()=='v':\n",
    "                    url_base36=j.url[18:31]\n",
    "                    #print(url_base36)\n",
    "                    logging.info(f\"Currently Downloading {key}\")\n",
    "                    #i had mis spelled downloads as donwloads here, in the folder param..took right about 2 hrs of searching to find this tiny dumb mistake\n",
    "                    try:\n",
    "                        download(url=j.url,folder=f\"Downloads/{key}/\",Filename=f\"{url_base36}.mp4\")#this .mp4 missing created the problem of ffmpeg constantly erroring......\n",
    "                    except Exception as e:\n",
    "                        print(e)\n",
    "                        continue\n",
    "                    logging.info(\"Download Complete\")\n",
    "                    \n"
   ]
  },
  {
   "cell_type": "code",
   "execution_count": null,
   "metadata": {},
   "outputs": [],
   "source": [
    "Subreddits={'Cute':Cute,'Unexpected':Unexpected,'People_negative':People_negative,\n",
    "            'People_positive':People_positive,\"Misc\":Misc,\"Funny\":Funny}\n",
    "Subreddits2={\"Funny\":Funny}\n",
    "\n",
    "RetrieveAndDownload(Subreddits2)\n",
    "\n",
    "    "
   ]
  },
  {
   "cell_type": "markdown",
   "metadata": {},
   "source": [
    "Now to start dividing the files into 10 minute segments? or i go thru them and process manually.\n",
    "i think its better to divide but idk\n"
   ]
  }
 ],
 "metadata": {
  "kernelspec": {
   "display_name": "Python 3.9.6 64-bit",
   "language": "python",
   "name": "python3"
  },
  "language_info": {
   "codemirror_mode": {
    "name": "ipython",
    "version": 3
   },
   "file_extension": ".py",
   "mimetype": "text/x-python",
   "name": "python",
   "nbconvert_exporter": "python",
   "pygments_lexer": "ipython3",
   "version": "3.9.6"
  },
  "orig_nbformat": 4,
  "vscode": {
   "interpreter": {
    "hash": "6fff98fc3b3d81bd655c2cc48858186e4d9e2db7b515bf1c3221888f12a62f87"
   }
  }
 },
 "nbformat": 4,
 "nbformat_minor": 2
}
