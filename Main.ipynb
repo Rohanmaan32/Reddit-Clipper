{
 "cells": [
  {
   "cell_type": "code",
   "execution_count": 2,
   "metadata": {},
   "outputs": [
    {
     "name": "stdout",
     "output_type": "stream",
     "text": [
      "Successfully connected\n"
     ]
    },
    {
     "name": "stderr",
     "output_type": "stream",
     "text": [
      "Version 7.4.0 of praw is outdated. Version 7.6.0 was released Tuesday May 10, 2022.\n"
     ]
    }
   ],
   "source": [
    "import Downloader\n",
    "import Reddit_Sql\n",
    "import Subreddit_lists\n",
    "import praw\n",
    "import Api_ID\n"
   ]
  },
  {
   "cell_type": "code",
   "execution_count": null,
   "metadata": {},
   "outputs": [],
   "source": [
    "\n",
    "reddit = praw.Reddit(\n",
    "    client_id=Api_ID.App_id,\n",
    "    client_secret=Api_ID.Secret,\n",
    "    password=\"Zuccjuicer\",\n",
    "    user_agent=\"PRAW:Link Grabbing bot by u/MetaNotFacebook\",\n",
    "    username=\"MetaNotFacebook\",\n",
    ")"
   ]
  }
 ],
 "metadata": {
  "interpreter": {
   "hash": "11f1dc213e07634baa4c5c321dec03c05dafae643c50f20e6d1a492290c05dc2"
  },
  "kernelspec": {
   "display_name": "Python 3.9.6 64-bit",
   "language": "python",
   "name": "python3"
  },
  "language_info": {
   "codemirror_mode": {
    "name": "ipython",
    "version": 3
   },
   "file_extension": ".py",
   "mimetype": "text/x-python",
   "name": "python",
   "nbconvert_exporter": "python",
   "pygments_lexer": "ipython3",
   "version": "3.9.6"
  },
  "orig_nbformat": 4
 },
 "nbformat": 4,
 "nbformat_minor": 2
}
